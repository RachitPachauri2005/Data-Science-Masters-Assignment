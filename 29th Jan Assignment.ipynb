{
 "cells": [
  {
   "cell_type": "markdown",
   "id": "35480e05-da87-4815-beea-927101ee5a37",
   "metadata": {},
   "source": [
    "### 1. Who developed Python Programming Language? \n"
   ]
  },
  {
   "cell_type": "code",
   "execution_count": null,
   "id": "606d5d29-8e07-4e80-a5af-4f9e6297f098",
   "metadata": {},
   "outputs": [],
   "source": [
    "Guido van Rossum"
   ]
  },
  {
   "cell_type": "markdown",
   "id": "040cdefa-c306-4ba5-bcff-7fd5f266bd7f",
   "metadata": {},
   "source": [
    "### 2. Which type of Programming does Python support?"
   ]
  },
  {
   "cell_type": "code",
   "execution_count": null,
   "id": "784adc8c-e3ac-4d34-8f0f-ee9c24532af4",
   "metadata": {},
   "outputs": [],
   "source": [
    "Object-oriented programming "
   ]
  },
  {
   "cell_type": "markdown",
   "id": "ecb3e85a-40dc-44eb-bace-b39a1bf1a4c8",
   "metadata": {},
   "source": [
    "### 3. Is Python case sensitive when dealing with identifiers? "
   ]
  },
  {
   "cell_type": "code",
   "execution_count": null,
   "id": "1a5f90a7-3e69-49e1-a30b-79f0b110269a",
   "metadata": {},
   "outputs": [],
   "source": [
    "Yes"
   ]
  },
  {
   "cell_type": "markdown",
   "id": "196b0ebd-0e0d-4edc-8f3e-78806f4dccfc",
   "metadata": {},
   "source": [
    "### 4. What is the correct extension of the Python file? "
   ]
  },
  {
   "cell_type": "code",
   "execution_count": null,
   "id": "8f7e1767-8799-4776-aa9d-56e1f4c79e37",
   "metadata": {},
   "outputs": [],
   "source": [
    "\".py\""
   ]
  },
  {
   "cell_type": "markdown",
   "id": "83ecb465-dfd5-417c-9ec8-50ec97e6e2de",
   "metadata": {},
   "source": [
    "### 5. Is Python code compiled or interpreted? \n"
   ]
  },
  {
   "cell_type": "code",
   "execution_count": null,
   "id": "59d442a0-c6bd-4da0-a739-94e4b2424561",
   "metadata": {},
   "outputs": [],
   "source": [
    "interpreted"
   ]
  },
  {
   "cell_type": "markdown",
   "id": "71c71dda-9007-45ef-93a2-520088e80df8",
   "metadata": {},
   "source": [
    "### 6. Name a few blocks of code used to define in Python language? \n"
   ]
  },
  {
   "cell_type": "code",
   "execution_count": null,
   "id": "33a9756c-0a35-4c30-b1c7-54f10f17ccdc",
   "metadata": {},
   "outputs": [],
   "source": [
    " Indentation\n",
    "    def example_function():\n",
    "    print(\"This is part of the function.\")\n",
    "    if True:\n",
    "        print(\"This is part of the if block.\")\n",
    "    else:\n",
    "        print(\"This is part of the else block.\")\n",
    "    print(\"This is again part of the function.\")"
   ]
  },
  {
   "cell_type": "markdown",
   "id": "559dbf6f-bea4-405f-8eb1-ba79639ae685",
   "metadata": {},
   "source": [
    "### 7. State a character used to give single-line comments in Python? \n"
   ]
  },
  {
   "cell_type": "code",
   "execution_count": null,
   "id": "68031b96-f222-4373-b842-0961074b5c57",
   "metadata": {},
   "outputs": [],
   "source": [
    "## is used to give single line comment in python"
   ]
  },
  {
   "cell_type": "markdown",
   "id": "2a7a9fdd-3f5d-4610-a883-9903e9ddc6b4",
   "metadata": {},
   "source": [
    "### 8. Mention functions which can help us to find the version of python that we are currently working on? "
   ]
  },
  {
   "cell_type": "code",
   "execution_count": null,
   "id": "3cf9814f-8752-4d5e-9080-f7831cbab103",
   "metadata": {},
   "outputs": [],
   "source": [
    "sys.version"
   ]
  },
  {
   "cell_type": "markdown",
   "id": "438dbe4a-a989-49b1-b3b5-ef8a2f316317",
   "metadata": {},
   "source": [
    "### 9. Python supports the creation of anonymous functions at runtime, using a construct called \n"
   ]
  },
  {
   "cell_type": "code",
   "execution_count": null,
   "id": "b2484360-4505-48f7-a6fd-4efd2828a7b9",
   "metadata": {},
   "outputs": [],
   "source": [
    "lambda"
   ]
  },
  {
   "cell_type": "markdown",
   "id": "e201e28c-27d4-4b0b-8cc3-db291fa3510e",
   "metadata": {},
   "source": [
    "### 10. What does pip stand for python? \n"
   ]
  },
  {
   "cell_type": "code",
   "execution_count": null,
   "id": "f27ca030-2187-4efa-bd5f-50c2c92bb7fc",
   "metadata": {},
   "outputs": [],
   "source": [
    "pip Install Packages"
   ]
  },
  {
   "cell_type": "markdown",
   "id": "1d9a42f2-0f6a-48e0-8b7b-e729e8312202",
   "metadata": {},
   "source": [
    "### 11. Mention a few built-in functions in python? \n"
   ]
  },
  {
   "cell_type": "code",
   "execution_count": null,
   "id": "7b4fe9d6-b992-4a38-9d4d-a3a450cf8130",
   "metadata": {},
   "outputs": [],
   "source": [
    "len(),type(),print(),str(),list(),tuple(),set(),dict()"
   ]
  },
  {
   "cell_type": "markdown",
   "id": "a4421095-7f6f-4542-a2c3-6617f0087e13",
   "metadata": {},
   "source": [
    "### 12. What is the maximum possible length of an identifier in Python? \n"
   ]
  },
  {
   "cell_type": "code",
   "execution_count": null,
   "id": "852c8e45-6163-4437-b580-56090c0c1b5b",
   "metadata": {},
   "outputs": [],
   "source": [
    "79 characters"
   ]
  },
  {
   "cell_type": "markdown",
   "id": "1ad33d9e-3113-4e2d-8071-bfb544e12a8b",
   "metadata": {},
   "source": [
    "### 13. What are the benefits of using Python? \n"
   ]
  },
  {
   "cell_type": "code",
   "execution_count": null,
   "id": "981fe897-dfc5-4b6a-903f-92bc476ea4cf",
   "metadata": {},
   "outputs": [],
   "source": [
    "Easy to use\n",
    "free and open source"
   ]
  },
  {
   "cell_type": "markdown",
   "id": "1afec27b-3755-43a6-8502-420d8b54fc89",
   "metadata": {},
   "source": [
    "### 14. How is memory managed in Python? \n"
   ]
  },
  {
   "cell_type": "code",
   "execution_count": null,
   "id": "7d894bb6-c301-49f9-a5da-c92cb77e7e9c",
   "metadata": {},
   "outputs": [],
   "source": [
    "garbage collection"
   ]
  },
  {
   "cell_type": "markdown",
   "id": "cbcd5779-c58f-4634-b29d-47a74160fe07",
   "metadata": {},
   "source": [
    "### 15. How to install Python on Windows and set path variables?\n"
   ]
  },
  {
   "cell_type": "code",
   "execution_count": null,
   "id": "fa593d57-042b-40ce-9635-90c4efb3743c",
   "metadata": {},
   "outputs": [],
   "source": [
    "Locate the Python installation directory\n",
    "Go to Advanced System Settings\n",
    "Click Environment Variables\n",
    "In the System variables section, select the Path variable\n",
    "Click Edit\n",
    "In the User Variables section, double-click Path\n",
    "Click New and paste the path to your Python executable\n",
    "Select the newly added path and click Move Up until it's at the top \n"
   ]
  },
  {
   "cell_type": "markdown",
   "id": "1ea8f739-eb83-44f6-bacf-26427d9eb311",
   "metadata": {},
   "source": [
    " 16. Is indentation required in python? "
   ]
  },
  {
   "cell_type": "code",
   "execution_count": null,
   "id": "f249f86c-8e67-40a6-b6e2-0301b7021fd5",
   "metadata": {},
   "outputs": [],
   "source": [
    "yes"
   ]
  }
 ],
 "metadata": {
  "kernelspec": {
   "display_name": "Python 3 (ipykernel)",
   "language": "python",
   "name": "python3"
  },
  "language_info": {
   "codemirror_mode": {
    "name": "ipython",
    "version": 3
   },
   "file_extension": ".py",
   "mimetype": "text/x-python",
   "name": "python",
   "nbconvert_exporter": "python",
   "pygments_lexer": "ipython3",
   "version": "3.10.8"
  }
 },
 "nbformat": 4,
 "nbformat_minor": 5
}
