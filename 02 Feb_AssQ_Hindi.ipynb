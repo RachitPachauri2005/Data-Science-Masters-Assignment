{
 "cells": [
  {
   "cell_type": "markdown",
   "id": "12cd7f3c-e0b6-47f1-b428-1eabefd6630d",
   "metadata": {},
   "source": [
    "### Q1. Explain with an example each when to use a for loop and a while loop."
   ]
  },
  {
   "cell_type": "code",
   "execution_count": 1,
   "id": "6c4c96e7-c935-4f22-9069-6f31ccf1841f",
   "metadata": {},
   "outputs": [],
   "source": [
    "# use a for loop\n",
    "l = [1,2,3,4,5]\n",
    "l1 = []\n",
    "for i in l:\n",
    "    l1.append(i+1)\n",
    "    "
   ]
  },
  {
   "cell_type": "code",
   "execution_count": 2,
   "id": "d5101a2e-77b5-4ec3-9857-0ef83e856e5e",
   "metadata": {},
   "outputs": [
    {
     "data": {
      "text/plain": [
       "[2, 3, 4, 5, 6]"
      ]
     },
     "execution_count": 2,
     "metadata": {},
     "output_type": "execute_result"
    }
   ],
   "source": [
    "l1"
   ]
  },
  {
   "cell_type": "code",
   "execution_count": 4,
   "id": "6226dd40-9403-4cf8-b8dc-279a817b2d1e",
   "metadata": {},
   "outputs": [
    {
     "name": "stdout",
     "output_type": "stream",
     "text": [
      "0\n",
      "1\n",
      "2\n",
      "3\n",
      "4\n",
      "5\n"
     ]
    }
   ],
   "source": [
    "# use a while loop\n",
    "i=0\n",
    "while i <=5:\n",
    "    print(i)\n",
    "    i=i+1"
   ]
  },
  {
   "cell_type": "markdown",
   "id": "f7c87be0-a794-4ba2-b222-c22ad93efeef",
   "metadata": {},
   "source": [
    "## Q2. Write a python program to print the sum and product of the first 10 natural numbers using for and while loop."
   ]
  },
  {
   "cell_type": "code",
   "execution_count": 8,
   "id": "bc433417-b040-470d-9ead-cce20c1e5b4b",
   "metadata": {},
   "outputs": [
    {
     "name": "stdout",
     "output_type": "stream",
     "text": [
      "Sum 55\n",
      "product 3628800\n"
     ]
    }
   ],
   "source": [
    "# for loop \n",
    "s = 0\n",
    "p = 1\n",
    "for i in range(1,11):\n",
    "    s = s+i\n",
    "    p = p*i\n",
    "print(\"Sum\",s)\n",
    "print(\"product\",p)\n",
    "    "
   ]
  },
  {
   "cell_type": "code",
   "execution_count": 9,
   "id": "2fc32895-5422-4563-94ef-ee7e61235c3f",
   "metadata": {},
   "outputs": [
    {
     "name": "stdout",
     "output_type": "stream",
     "text": [
      "Sum 55\n",
      "product 3628800\n"
     ]
    }
   ],
   "source": [
    "# while loop\n",
    "i = 1\n",
    "s = 0\n",
    "p = 1\n",
    "while i <=10:\n",
    "    s =s+i\n",
    "    p =p*i\n",
    "    i = i+1\n",
    "print(\"Sum\",s)\n",
    "print(\"product\",p)    \n",
    "    "
   ]
  },
  {
   "cell_type": "code",
   "execution_count": 11,
   "id": "0e08ac77-ad43-40df-ac6d-428c651ce084",
   "metadata": {},
   "outputs": [
    {
     "name": "stdin",
     "output_type": "stream",
     "text": [
      "Enter the units  310\n"
     ]
    },
    {
     "name": "stdout",
     "output_type": "stream",
     "text": [
      "2250\n"
     ]
    }
   ],
   "source": [
    "\"\"\"Q3. Create a python program to compute the electricity bill for a household.\n",
    "The per-unit charges in rupees are as follows: For the first 100 units, the user will be charged Rs. 4.5 per\n",
    "unit, for the next 100 units, the user will be charged Rs. 6 per unit, and for the next 100 units, the user will\n",
    "be charged Rs. 10 per unit, After 300 units and above the user will be charged Rs. 20 per unit.\n",
    "You are required to take the units of electricity consumed in a month from the user as input.\n",
    "Your program must pass this test case: when the unit of electricity consumed by the user in a month is\n",
    "310, the total electricity bill should be 2250.\"\"\"\n",
    "u = int(input(\"Enter the units \"))\n",
    "if u == 100:\n",
    "    b = u * 4.5\n",
    "elif u > 100 and u<=200:\n",
    "    b = 450 + ((u - 100)*6)\n",
    "elif u > 200 and u<=300:\n",
    "    b = 450+ 600+((u-200)*10)\n",
    "elif u>300:\n",
    "    b = 450+600+1000+((u-300)*20)\n",
    "\n",
    "print(b)    \n",
    "    \n"
   ]
  },
  {
   "cell_type": "code",
   "execution_count": 36,
   "id": "6639169d-867c-486a-921e-6520a21b1af8",
   "metadata": {},
   "outputs": [],
   "source": [
    "\"\"\"Q4. Create a list of numbers from 1 to 100. Use for loop and while loop to calculate the cube of each\n",
    "number and if the cube of that number is divisible by 4 or 5 then append that number in a list and print\n",
    "that list.\"\"\"\n",
    "l = []\n",
    "for i  in range(1,101):\n",
    "    l.append(i)"
   ]
  },
  {
   "cell_type": "code",
   "execution_count": 37,
   "id": "6296c360-1b15-487b-b25e-cacc1f57de82",
   "metadata": {},
   "outputs": [],
   "source": [
    "l1 = []\n",
    "for j in l:\n",
    "    c = 1\n",
    "    c = j**3\n",
    "    if c%4==0 or c%5==0:\n",
    "        l1.append(j)"
   ]
  },
  {
   "cell_type": "code",
   "execution_count": 38,
   "id": "2acad779-4bd2-4e54-b978-5f15331217a4",
   "metadata": {},
   "outputs": [
    {
     "data": {
      "text/plain": [
       "[2,\n",
       " 4,\n",
       " 5,\n",
       " 6,\n",
       " 8,\n",
       " 10,\n",
       " 12,\n",
       " 14,\n",
       " 15,\n",
       " 16,\n",
       " 18,\n",
       " 20,\n",
       " 22,\n",
       " 24,\n",
       " 25,\n",
       " 26,\n",
       " 28,\n",
       " 30,\n",
       " 32,\n",
       " 34,\n",
       " 35,\n",
       " 36,\n",
       " 38,\n",
       " 40,\n",
       " 42,\n",
       " 44,\n",
       " 45,\n",
       " 46,\n",
       " 48,\n",
       " 50,\n",
       " 52,\n",
       " 54,\n",
       " 55,\n",
       " 56,\n",
       " 58,\n",
       " 60,\n",
       " 62,\n",
       " 64,\n",
       " 65,\n",
       " 66,\n",
       " 68,\n",
       " 70,\n",
       " 72,\n",
       " 74,\n",
       " 75,\n",
       " 76,\n",
       " 78,\n",
       " 80,\n",
       " 82,\n",
       " 84,\n",
       " 85,\n",
       " 86,\n",
       " 88,\n",
       " 90,\n",
       " 92,\n",
       " 94,\n",
       " 95,\n",
       " 96,\n",
       " 98,\n",
       " 100]"
      ]
     },
     "execution_count": 38,
     "metadata": {},
     "output_type": "execute_result"
    }
   ],
   "source": [
    "l1"
   ]
  },
  {
   "cell_type": "code",
   "execution_count": 44,
   "id": "50ba69c2-adb7-4d8b-97a9-29e9843ce047",
   "metadata": {},
   "outputs": [
    {
     "data": {
      "text/plain": [
       "'Iaoeoeaaaiei'"
      ]
     },
     "execution_count": 44,
     "metadata": {},
     "output_type": "execute_result"
    }
   ],
   "source": [
    "\"\"\"Q5. Write a program to filter count vowels in the below-given string.\n",
    "string = \"I want to become a data scientist\"\"\"\n",
    "s1 =\"\"\n",
    "s = \"I want to become a data scientist\"\n",
    "for i in s:\n",
    "    if i == \"a\"or i==\"e\"or i==\"i\" or i==\"o\" or i==\"u\"or i == \"A\"or i==\"E\"or i==\"I\" or i==\"O\" or i==\"U\":\n",
    "        s1 = s1 + i\n",
    "        \n",
    "        \n",
    "s1        "
   ]
  },
  {
   "cell_type": "code",
   "execution_count": null,
   "id": "82d62167-0bd9-42bf-b933-0129fe55a102",
   "metadata": {},
   "outputs": [],
   "source": []
  }
 ],
 "metadata": {
  "kernelspec": {
   "display_name": "Python 3 (ipykernel)",
   "language": "python",
   "name": "python3"
  },
  "language_info": {
   "codemirror_mode": {
    "name": "ipython",
    "version": 3
   },
   "file_extension": ".py",
   "mimetype": "text/x-python",
   "name": "python",
   "nbconvert_exporter": "python",
   "pygments_lexer": "ipython3",
   "version": "3.10.8"
  }
 },
 "nbformat": 4,
 "nbformat_minor": 5
}
